{
 "cells": [
  {
   "cell_type": "markdown",
   "id": "607af838",
   "metadata": {},
   "source": [
    "**UTILITY FUNCTIONS AND LIBRARIES***"
   ]
  },
  {
   "cell_type": "code",
   "execution_count": 2,
   "id": "f726f286",
   "metadata": {},
   "outputs": [],
   "source": [
    "import pandas as pd\n",
    "import numpy as np\n",
    "import matplotlib.pyplot as plt\n",
    "from pandas_profiling import ProfileReport\n",
    "from sklearn.preprocessing import OrdinalEncoder\n",
    "from sklearn.impute import SimpleImputer\n",
    "from sklearn.model_selection import train_test_split\n",
    "from sklearn.experimental import enable_iterative_imputer\n",
    "from sklearn.ensemble import ExtraTreesRegressor\n",
    "from sklearn.preprocessing import LabelEncoder\n",
    "from sklearn.ensemble import RandomForestRegressor\n",
    "from sklearn.model_selection import cross_val_score\n",
    "from sklearn.model_selection import KFold\n",
    "from sklearn.model_selection import GridSearchCV\n",
    "from sklearn.pipeline import make_pipeline\n",
    "from sklearn.linear_model import LinearRegression\n",
    "from sklearn.feature_selection import RFE\n",
    "from sklearn.metrics import r2_score"
   ]
  },
  {
   "cell_type": "markdown",
   "id": "940c6968",
   "metadata": {},
   "source": [
    "***DATASET LOADING***"
   ]
  },
  {
   "cell_type": "code",
   "execution_count": 3,
   "id": "35ba6a43",
   "metadata": {},
   "outputs": [],
   "source": [
    "df = pd.read_csv(\"layoffs_data.csv\")"
   ]
  },
  {
   "cell_type": "markdown",
   "id": "600209ab",
   "metadata": {},
   "source": [
    "***DATASET PRELIMINARY ANALYSIS***"
   ]
  },
  {
   "cell_type": "code",
   "execution_count": 4,
   "id": "e2c30cdc",
   "metadata": {},
   "outputs": [
    {
     "data": {
      "text/html": [
       "<div>\n",
       "<style scoped>\n",
       "    .dataframe tbody tr th:only-of-type {\n",
       "        vertical-align: middle;\n",
       "    }\n",
       "\n",
       "    .dataframe tbody tr th {\n",
       "        vertical-align: top;\n",
       "    }\n",
       "\n",
       "    .dataframe thead th {\n",
       "        text-align: right;\n",
       "    }\n",
       "</style>\n",
       "<table border=\"1\" class=\"dataframe\">\n",
       "  <thead>\n",
       "    <tr style=\"text-align: right;\">\n",
       "      <th></th>\n",
       "      <th>Company</th>\n",
       "      <th>Location</th>\n",
       "      <th>Industry</th>\n",
       "      <th>Laid_Off_Count</th>\n",
       "      <th>Percentage</th>\n",
       "      <th>Date</th>\n",
       "      <th>Source</th>\n",
       "      <th>Funds_Raised</th>\n",
       "      <th>Stage</th>\n",
       "      <th>Date_Added</th>\n",
       "      <th>Country</th>\n",
       "      <th>List_of_Employees_Laid_Off</th>\n",
       "    </tr>\n",
       "  </thead>\n",
       "  <tbody>\n",
       "    <tr>\n",
       "      <th>0</th>\n",
       "      <td>Lyst</td>\n",
       "      <td>London</td>\n",
       "      <td>Retail</td>\n",
       "      <td>50.0</td>\n",
       "      <td>0.25</td>\n",
       "      <td>2022-11-29</td>\n",
       "      <td>https://techcrunch.com/2022/11/29/lyst-the-uk-...</td>\n",
       "      <td>144.0</td>\n",
       "      <td>Unknown</td>\n",
       "      <td>2022-11-30 06:03:36</td>\n",
       "      <td>United Kingdom</td>\n",
       "      <td>Unknown</td>\n",
       "    </tr>\n",
       "    <tr>\n",
       "      <th>1</th>\n",
       "      <td>Bitfront</td>\n",
       "      <td>SF Bay Area</td>\n",
       "      <td>Crypto</td>\n",
       "      <td>NaN</td>\n",
       "      <td>1.00</td>\n",
       "      <td>2022-11-29</td>\n",
       "      <td>https://www.reuters.com/technology/crypto-exch...</td>\n",
       "      <td>NaN</td>\n",
       "      <td>Unknown</td>\n",
       "      <td>2022-11-30 05:54:28</td>\n",
       "      <td>United States</td>\n",
       "      <td>Unknown</td>\n",
       "    </tr>\n",
       "    <tr>\n",
       "      <th>2</th>\n",
       "      <td>Codexis</td>\n",
       "      <td>SF Bay Area</td>\n",
       "      <td>Healthcare</td>\n",
       "      <td>NaN</td>\n",
       "      <td>0.18</td>\n",
       "      <td>2022-11-29</td>\n",
       "      <td>https://www.codexis.com/investors/news-events/...</td>\n",
       "      <td>162.0</td>\n",
       "      <td>IPO</td>\n",
       "      <td>2022-11-30 06:17:39</td>\n",
       "      <td>United States</td>\n",
       "      <td>Unknown</td>\n",
       "    </tr>\n",
       "    <tr>\n",
       "      <th>3</th>\n",
       "      <td>Lazerpay</td>\n",
       "      <td>Lagos</td>\n",
       "      <td>Crypto</td>\n",
       "      <td>NaN</td>\n",
       "      <td>NaN</td>\n",
       "      <td>2022-11-29</td>\n",
       "      <td>https://techpoint.africa/2022/11/29/lazerpay-s...</td>\n",
       "      <td>NaN</td>\n",
       "      <td>Unknown</td>\n",
       "      <td>2022-11-30 05:59:51</td>\n",
       "      <td>Nigeria</td>\n",
       "      <td>Unknown</td>\n",
       "    </tr>\n",
       "    <tr>\n",
       "      <th>4</th>\n",
       "      <td>MessageBird</td>\n",
       "      <td>Amsterdam</td>\n",
       "      <td>Other</td>\n",
       "      <td>NaN</td>\n",
       "      <td>0.31</td>\n",
       "      <td>2022-11-29</td>\n",
       "      <td>https://tech.eu/2022/11/29/messagebird-lay-off...</td>\n",
       "      <td>1100.0</td>\n",
       "      <td>Series C</td>\n",
       "      <td>2022-11-30 05:57:28</td>\n",
       "      <td>Netherlands</td>\n",
       "      <td>Unknown</td>\n",
       "    </tr>\n",
       "    <tr>\n",
       "      <th>...</th>\n",
       "      <td>...</td>\n",
       "      <td>...</td>\n",
       "      <td>...</td>\n",
       "      <td>...</td>\n",
       "      <td>...</td>\n",
       "      <td>...</td>\n",
       "      <td>...</td>\n",
       "      <td>...</td>\n",
       "      <td>...</td>\n",
       "      <td>...</td>\n",
       "      <td>...</td>\n",
       "      <td>...</td>\n",
       "    </tr>\n",
       "    <tr>\n",
       "      <th>1691</th>\n",
       "      <td>Service</td>\n",
       "      <td>Los Angeles</td>\n",
       "      <td>Travel</td>\n",
       "      <td>NaN</td>\n",
       "      <td>1.00</td>\n",
       "      <td>2020-03-16</td>\n",
       "      <td>https://techcrunch.com/2020/03/16/travel-savin...</td>\n",
       "      <td>5.1</td>\n",
       "      <td>Seed</td>\n",
       "      <td>2020-08-31 15:17:26</td>\n",
       "      <td>United States</td>\n",
       "      <td>Unknown</td>\n",
       "    </tr>\n",
       "    <tr>\n",
       "      <th>1692</th>\n",
       "      <td>HopSkipDrive</td>\n",
       "      <td>Los Angeles</td>\n",
       "      <td>Transportation</td>\n",
       "      <td>8.0</td>\n",
       "      <td>0.10</td>\n",
       "      <td>2020-03-13</td>\n",
       "      <td>https://layoffs.fyi/2020/04/02/hopskipdrive-la...</td>\n",
       "      <td>45.0</td>\n",
       "      <td>Unknown</td>\n",
       "      <td>2020-04-03 04:47:03</td>\n",
       "      <td>United States</td>\n",
       "      <td>Unknown</td>\n",
       "    </tr>\n",
       "    <tr>\n",
       "      <th>1693</th>\n",
       "      <td>Panda Squad</td>\n",
       "      <td>SF Bay Area</td>\n",
       "      <td>Consumer</td>\n",
       "      <td>6.0</td>\n",
       "      <td>0.75</td>\n",
       "      <td>2020-03-13</td>\n",
       "      <td>https://twitter.com/danielsinger/status/123854...</td>\n",
       "      <td>1.0</td>\n",
       "      <td>Seed</td>\n",
       "      <td>2020-04-17 00:12:49</td>\n",
       "      <td>United States</td>\n",
       "      <td>Unknown</td>\n",
       "    </tr>\n",
       "    <tr>\n",
       "      <th>1694</th>\n",
       "      <td>Tamara Mellon</td>\n",
       "      <td>Los Angeles</td>\n",
       "      <td>Retail</td>\n",
       "      <td>20.0</td>\n",
       "      <td>0.40</td>\n",
       "      <td>2020-03-12</td>\n",
       "      <td>https://layoffs.fyi/list/tamara-mellon/</td>\n",
       "      <td>90.0</td>\n",
       "      <td>Series C</td>\n",
       "      <td>2020-03-31 16:04:23</td>\n",
       "      <td>United States</td>\n",
       "      <td>Unknown</td>\n",
       "    </tr>\n",
       "    <tr>\n",
       "      <th>1695</th>\n",
       "      <td>EasyPost</td>\n",
       "      <td>Salt Lake City</td>\n",
       "      <td>Logistics</td>\n",
       "      <td>75.0</td>\n",
       "      <td>NaN</td>\n",
       "      <td>2020-03-11</td>\n",
       "      <td>https://www.bizjournals.com/louisville/news/20...</td>\n",
       "      <td>12.0</td>\n",
       "      <td>Series A</td>\n",
       "      <td>2020-03-31 13:21:54</td>\n",
       "      <td>United States</td>\n",
       "      <td>Unknown</td>\n",
       "    </tr>\n",
       "  </tbody>\n",
       "</table>\n",
       "<p>1696 rows × 12 columns</p>\n",
       "</div>"
      ],
      "text/plain": [
       "            Company        Location        Industry  Laid_Off_Count  \\\n",
       "0              Lyst          London          Retail            50.0   \n",
       "1          Bitfront     SF Bay Area          Crypto             NaN   \n",
       "2           Codexis     SF Bay Area      Healthcare             NaN   \n",
       "3          Lazerpay           Lagos          Crypto             NaN   \n",
       "4       MessageBird       Amsterdam           Other             NaN   \n",
       "...             ...             ...             ...             ...   \n",
       "1691        Service     Los Angeles          Travel             NaN   \n",
       "1692   HopSkipDrive     Los Angeles  Transportation             8.0   \n",
       "1693    Panda Squad     SF Bay Area        Consumer             6.0   \n",
       "1694  Tamara Mellon     Los Angeles          Retail            20.0   \n",
       "1695       EasyPost  Salt Lake City       Logistics            75.0   \n",
       "\n",
       "      Percentage        Date  \\\n",
       "0           0.25  2022-11-29   \n",
       "1           1.00  2022-11-29   \n",
       "2           0.18  2022-11-29   \n",
       "3            NaN  2022-11-29   \n",
       "4           0.31  2022-11-29   \n",
       "...          ...         ...   \n",
       "1691        1.00  2020-03-16   \n",
       "1692        0.10  2020-03-13   \n",
       "1693        0.75  2020-03-13   \n",
       "1694        0.40  2020-03-12   \n",
       "1695         NaN  2020-03-11   \n",
       "\n",
       "                                                 Source  Funds_Raised  \\\n",
       "0     https://techcrunch.com/2022/11/29/lyst-the-uk-...         144.0   \n",
       "1     https://www.reuters.com/technology/crypto-exch...           NaN   \n",
       "2     https://www.codexis.com/investors/news-events/...         162.0   \n",
       "3     https://techpoint.africa/2022/11/29/lazerpay-s...           NaN   \n",
       "4     https://tech.eu/2022/11/29/messagebird-lay-off...        1100.0   \n",
       "...                                                 ...           ...   \n",
       "1691  https://techcrunch.com/2020/03/16/travel-savin...           5.1   \n",
       "1692  https://layoffs.fyi/2020/04/02/hopskipdrive-la...          45.0   \n",
       "1693  https://twitter.com/danielsinger/status/123854...           1.0   \n",
       "1694            https://layoffs.fyi/list/tamara-mellon/          90.0   \n",
       "1695  https://www.bizjournals.com/louisville/news/20...          12.0   \n",
       "\n",
       "         Stage           Date_Added         Country List_of_Employees_Laid_Off  \n",
       "0      Unknown  2022-11-30 06:03:36  United Kingdom                    Unknown  \n",
       "1      Unknown  2022-11-30 05:54:28   United States                    Unknown  \n",
       "2          IPO  2022-11-30 06:17:39   United States                    Unknown  \n",
       "3      Unknown  2022-11-30 05:59:51         Nigeria                    Unknown  \n",
       "4     Series C  2022-11-30 05:57:28     Netherlands                    Unknown  \n",
       "...        ...                  ...             ...                        ...  \n",
       "1691      Seed  2020-08-31 15:17:26   United States                    Unknown  \n",
       "1692   Unknown  2020-04-03 04:47:03   United States                    Unknown  \n",
       "1693      Seed  2020-04-17 00:12:49   United States                    Unknown  \n",
       "1694  Series C  2020-03-31 16:04:23   United States                    Unknown  \n",
       "1695  Series A  2020-03-31 13:21:54   United States                    Unknown  \n",
       "\n",
       "[1696 rows x 12 columns]"
      ]
     },
     "execution_count": 4,
     "metadata": {},
     "output_type": "execute_result"
    }
   ],
   "source": [
    "df"
   ]
  },
  {
   "cell_type": "code",
   "execution_count": 5,
   "id": "42aa25c8",
   "metadata": {},
   "outputs": [
    {
     "data": {
      "text/plain": [
       "(1696, 12)"
      ]
     },
     "execution_count": 5,
     "metadata": {},
     "output_type": "execute_result"
    }
   ],
   "source": [
    "df.shape"
   ]
  },
  {
   "cell_type": "code",
   "execution_count": 6,
   "id": "21bf4d12",
   "metadata": {
    "scrolled": true
   },
   "outputs": [
    {
     "name": "stdout",
     "output_type": "stream",
     "text": [
      "<class 'pandas.core.frame.DataFrame'>\n",
      "RangeIndex: 1696 entries, 0 to 1695\n",
      "Data columns (total 12 columns):\n",
      " #   Column                      Non-Null Count  Dtype  \n",
      "---  ------                      --------------  -----  \n",
      " 0   Company                     1696 non-null   object \n",
      " 1   Location                    1696 non-null   object \n",
      " 2   Industry                    1696 non-null   object \n",
      " 3   Laid_Off_Count              1197 non-null   float64\n",
      " 4   Percentage                  1137 non-null   float64\n",
      " 5   Date                        1696 non-null   object \n",
      " 6   Source                      1696 non-null   object \n",
      " 7   Funds_Raised                1575 non-null   float64\n",
      " 8   Stage                       1696 non-null   object \n",
      " 9   Date_Added                  1696 non-null   object \n",
      " 10  Country                     1696 non-null   object \n",
      " 11  List_of_Employees_Laid_Off  1696 non-null   object \n",
      "dtypes: float64(3), object(9)\n",
      "memory usage: 159.1+ KB\n"
     ]
    }
   ],
   "source": [
    "df.info()"
   ]
  },
  {
   "cell_type": "markdown",
   "id": "46ac92b2",
   "metadata": {},
   "source": [
    "Therefore we have null/unknown values in 'Laid_Off_count', 'Percentage', 'Funds_Raised', 'List_of_Employees_Laid_Off'\n",
    "\n",
    "'List_of_Employees_Laid_Off' can be removed as it isnt signficant due to all major values being 'Unknown' and other files being links to spreadsheets. The race, position and other characteristics should have been taken into account but wasnt possible here.\n",
    "\n",
    "'Source' can be dropped as well due to links."
   ]
  },
  {
   "cell_type": "code",
   "execution_count": 7,
   "id": "fda368d3",
   "metadata": {},
   "outputs": [
    {
     "data": {
      "text/plain": [
       "Unknown                                                                                                    1567\n",
       "https://hopin.softr.app/                                                                                      2\n",
       "https://docs.google.com/spreadsheets/d/1fsGXTNfMWJcpbEHFz0hXifyNCMKnxo9VOoofDf7MCXI/edit                      2\n",
       "https://docs.google.com/spreadsheets/d/1pIzBYSHU-wHamYgjR55TaYQF8vkAV0xFUcM2JbswaOU/edit                      1\n",
       "https://docs.google.com/spreadsheets/d/1JsVo5Zz_TqCGhYdPpJ59Inq9fkDnPqLftTLWKvcbDww/edit#gid=2146490888       1\n",
       "                                                                                                           ... \n",
       "https://docs.google.com/spreadsheets/d/1HEKOS0LEjpFYEbY4coaJJM-vNE42ZBLipkgZechoSf0/edit                      1\n",
       "https://docs.google.com/spreadsheets/d/1nAlPKtYWnHFyO6piehgqZyqBGXJPBJZ22nQ-mbPM_5E/edit?usp=sharing          1\n",
       "https://docs.google.com/spreadsheets/d/1_v1SdSE16SLkY4qFm0JOP2-ff-jOYt0-blxPrdAqEPo/edit                      1\n",
       "https://docs.google.com/spreadsheets/d/1qO1fXpOpStTMpr9m1I6k7-7XegeZZUqHzNPQ0W6TMx8/edit#gid=457261764        1\n",
       "https://weworkedatshop.com/                                                                                   1\n",
       "Name: List_of_Employees_Laid_Off, Length: 128, dtype: int64"
      ]
     },
     "execution_count": 7,
     "metadata": {},
     "output_type": "execute_result"
    }
   ],
   "source": [
    "df['List_of_Employees_Laid_Off'].value_counts()"
   ]
  },
  {
   "cell_type": "code",
   "execution_count": 8,
   "id": "06f93db6",
   "metadata": {
    "scrolled": true
   },
   "outputs": [],
   "source": [
    "#df_analysis = ProfileReport(df)\n",
    "#df_analysis"
   ]
  },
  {
   "cell_type": "code",
   "execution_count": 372,
   "id": "64161607",
   "metadata": {},
   "outputs": [],
   "source": [
    "def drop_cols(df,cols):\n",
    "    for i in cols:\n",
    "        del df[i]\n",
    "    return df"
   ]
  },
  {
   "cell_type": "code",
   "execution_count": 373,
   "id": "6843bd30",
   "metadata": {},
   "outputs": [],
   "source": [
    "df = drop_cols(df, ['Source','List_of_Employees_Laid_Off', 'Date_Added'])"
   ]
  },
  {
   "cell_type": "code",
   "execution_count": 374,
   "id": "d532dabd",
   "metadata": {
    "scrolled": true
   },
   "outputs": [
    {
     "data": {
      "text/plain": [
       "Company           False\n",
       "Location          False\n",
       "Industry          False\n",
       "Laid_Off_Count     True\n",
       "Percentage         True\n",
       "Date              False\n",
       "Funds_Raised       True\n",
       "Stage             False\n",
       "Country           False\n",
       "dtype: bool"
      ]
     },
     "execution_count": 374,
     "metadata": {},
     "output_type": "execute_result"
    }
   ],
   "source": [
    "df.isna().any()"
   ]
  },
  {
   "cell_type": "code",
   "execution_count": 375,
   "id": "77574746",
   "metadata": {},
   "outputs": [
    {
     "data": {
      "text/plain": [
       "Company           False\n",
       "Location          False\n",
       "Industry           True\n",
       "Laid_Off_Count    False\n",
       "Percentage        False\n",
       "Date              False\n",
       "Funds_Raised      False\n",
       "Stage              True\n",
       "Country           False\n",
       "dtype: bool"
      ]
     },
     "execution_count": 375,
     "metadata": {},
     "output_type": "execute_result"
    }
   ],
   "source": [
    "df.isin(['Unknown']).any()"
   ]
  },
  {
   "cell_type": "markdown",
   "id": "957d67c4",
   "metadata": {},
   "source": [
    "'Laid_Off_Count', 'Percentage', 'Funds_Raised' have missing values\n",
    "\n",
    "'Industry', 'Stage',  have Unknown Values\n",
    "\n",
    "9 features\n",
    "\n",
    "Categorical : 'Company' , 'Location' , 'Industry', 'Date', 'Stage', 'Country'\n",
    "\n",
    "Numeric : 'Laid_Off_Count', 'Percentage', 'Funds_Raised' "
   ]
  },
  {
   "cell_type": "code",
   "execution_count": 376,
   "id": "e4486c21",
   "metadata": {
    "scrolled": true
   },
   "outputs": [],
   "source": [
    "cat_ex = ['Company', 'Location', 'Country']\n",
    "round_ex = ['Laid_Off_Count', 'Funds_Raised', 'Industry', 'Stage']\n",
    "cat_fill_ex = ['Industry', 'Stage']\n",
    "num_fill_ex = [ 'Percentage','Laid_Off_Count','Funds_Raised']\n",
    "num_cols = ['Laid_Off_Count', 'Percentage', 'Funds_Raised']"
   ]
  },
  {
   "cell_type": "code",
   "execution_count": 377,
   "id": "ed3542ec",
   "metadata": {
    "scrolled": true
   },
   "outputs": [],
   "source": [
    "def cat2num(df,cols):\n",
    "    oe = OrdinalEncoder()\n",
    "    for i in cols:\n",
    "        df[i] = oe.fit_transform(df[[i]])\n",
    "        df[i] = df[i].astype('int')\n",
    "    return df"
   ]
  },
  {
   "cell_type": "code",
   "execution_count": 378,
   "id": "9f7bb984",
   "metadata": {
    "scrolled": true
   },
   "outputs": [],
   "source": [
    "# def impute(df,cols):\n",
    "#     my_imputer = SimpleImputer()\n",
    "#     for i in cols:\n",
    "#         df[i] = my_imputer.fit_transform(df[[i]])\n",
    "#     return df"
   ]
  },
  {
   "cell_type": "code",
   "execution_count": 379,
   "id": "c5971b25",
   "metadata": {},
   "outputs": [],
   "source": [
    "def round2(df,cols):\n",
    "    for i in cols:\n",
    "        df[i] = df[i].astype(int)\n",
    "    return df"
   ]
  },
  {
   "cell_type": "code",
   "execution_count": 380,
   "id": "fdb9e308",
   "metadata": {},
   "outputs": [],
   "source": [
    "def date2convert(df,col):\n",
    "    df[col] = pd.to_datetime(df[col])\n",
    "    df['Date_month'] = df[col].dt.month\n",
    "    df['Date_day'] = df[col].dt.day\n",
    "    del df[col]\n",
    "    return df"
   ]
  },
  {
   "cell_type": "code",
   "execution_count": 381,
   "id": "d77f60e9",
   "metadata": {},
   "outputs": [],
   "source": [
    "def cat2fill(df,cols):\n",
    "    df[cols] = df[cols].apply(lambda series: pd.Series(LabelEncoder().fit_transform(series[series.notnull()].index)))\n",
    "    imp_cat = IterativeImputer(estimator=RandomForestClassifier(), initial_strategy='most_frequent')\n",
    "    df[cols] = imp_cat.fit_transform(df[cols])\n",
    "    return df"
   ]
  },
  {
   "cell_type": "code",
   "execution_count": 382,
   "id": "7e311b93",
   "metadata": {},
   "outputs": [],
   "source": [
    "def num2fill(df,cols):\n",
    "    imp_num = IterativeImputer(estimator=RandomForestRegressor(),\n",
    "                               initial_strategy='mean',\n",
    "                               max_iter=10, random_state=0)\n",
    "    df[cols] = imp_num.fit_transform(df[cols])\n",
    "    return df"
   ]
  },
  {
   "cell_type": "code",
   "execution_count": 383,
   "id": "dab9856b",
   "metadata": {
    "scrolled": true
   },
   "outputs": [
    {
     "name": "stderr",
     "output_type": "stream",
     "text": [
      "C:\\Users\\Thoriday\\anaconda3\\lib\\site-packages\\sklearn\\impute\\_iterative.py:685: ConvergenceWarning: [IterativeImputer] Early stopping criterion not reached.\n",
      "  warnings.warn(\"[IterativeImputer] Early stopping criterion not\"\n",
      "C:\\Users\\Thoriday\\anaconda3\\lib\\site-packages\\sklearn\\impute\\_iterative.py:685: ConvergenceWarning: [IterativeImputer] Early stopping criterion not reached.\n",
      "  warnings.warn(\"[IterativeImputer] Early stopping criterion not\"\n"
     ]
    },
    {
     "data": {
      "text/html": [
       "<div>\n",
       "<style scoped>\n",
       "    .dataframe tbody tr th:only-of-type {\n",
       "        vertical-align: middle;\n",
       "    }\n",
       "\n",
       "    .dataframe tbody tr th {\n",
       "        vertical-align: top;\n",
       "    }\n",
       "\n",
       "    .dataframe thead th {\n",
       "        text-align: right;\n",
       "    }\n",
       "</style>\n",
       "<table border=\"1\" class=\"dataframe\">\n",
       "  <thead>\n",
       "    <tr style=\"text-align: right;\">\n",
       "      <th></th>\n",
       "      <th>Company</th>\n",
       "      <th>Location</th>\n",
       "      <th>Industry</th>\n",
       "      <th>Laid_Off_Count</th>\n",
       "      <th>Percentage</th>\n",
       "      <th>Funds_Raised</th>\n",
       "      <th>Stage</th>\n",
       "      <th>Country</th>\n",
       "      <th>Date_month</th>\n",
       "      <th>Date_day</th>\n",
       "    </tr>\n",
       "  </thead>\n",
       "  <tbody>\n",
       "    <tr>\n",
       "      <th>0</th>\n",
       "      <td>723</td>\n",
       "      <td>81</td>\n",
       "      <td>0</td>\n",
       "      <td>50</td>\n",
       "      <td>0.2500</td>\n",
       "      <td>144</td>\n",
       "      <td>0</td>\n",
       "      <td>51</td>\n",
       "      <td>11</td>\n",
       "      <td>29</td>\n",
       "    </tr>\n",
       "    <tr>\n",
       "      <th>1</th>\n",
       "      <td>133</td>\n",
       "      <td>124</td>\n",
       "      <td>1</td>\n",
       "      <td>879</td>\n",
       "      <td>1.0000</td>\n",
       "      <td>522</td>\n",
       "      <td>1</td>\n",
       "      <td>52</td>\n",
       "      <td>11</td>\n",
       "      <td>29</td>\n",
       "    </tr>\n",
       "    <tr>\n",
       "      <th>2</th>\n",
       "      <td>275</td>\n",
       "      <td>124</td>\n",
       "      <td>2</td>\n",
       "      <td>120</td>\n",
       "      <td>0.1800</td>\n",
       "      <td>162</td>\n",
       "      <td>2</td>\n",
       "      <td>52</td>\n",
       "      <td>11</td>\n",
       "      <td>29</td>\n",
       "    </tr>\n",
       "    <tr>\n",
       "      <th>3</th>\n",
       "      <td>675</td>\n",
       "      <td>73</td>\n",
       "      <td>3</td>\n",
       "      <td>1215</td>\n",
       "      <td>0.2306</td>\n",
       "      <td>4683</td>\n",
       "      <td>3</td>\n",
       "      <td>33</td>\n",
       "      <td>11</td>\n",
       "      <td>29</td>\n",
       "    </tr>\n",
       "    <tr>\n",
       "      <th>4</th>\n",
       "      <td>758</td>\n",
       "      <td>1</td>\n",
       "      <td>4</td>\n",
       "      <td>557</td>\n",
       "      <td>0.3100</td>\n",
       "      <td>1100</td>\n",
       "      <td>4</td>\n",
       "      <td>31</td>\n",
       "      <td>11</td>\n",
       "      <td>29</td>\n",
       "    </tr>\n",
       "    <tr>\n",
       "      <th>...</th>\n",
       "      <td>...</td>\n",
       "      <td>...</td>\n",
       "      <td>...</td>\n",
       "      <td>...</td>\n",
       "      <td>...</td>\n",
       "      <td>...</td>\n",
       "      <td>...</td>\n",
       "      <td>...</td>\n",
       "      <td>...</td>\n",
       "      <td>...</td>\n",
       "    </tr>\n",
       "    <tr>\n",
       "      <th>1691</th>\n",
       "      <td>1051</td>\n",
       "      <td>82</td>\n",
       "      <td>1691</td>\n",
       "      <td>86</td>\n",
       "      <td>1.0000</td>\n",
       "      <td>5</td>\n",
       "      <td>1403</td>\n",
       "      <td>52</td>\n",
       "      <td>3</td>\n",
       "      <td>16</td>\n",
       "    </tr>\n",
       "    <tr>\n",
       "      <th>1692</th>\n",
       "      <td>552</td>\n",
       "      <td>82</td>\n",
       "      <td>1692</td>\n",
       "      <td>8</td>\n",
       "      <td>0.1000</td>\n",
       "      <td>45</td>\n",
       "      <td>1403</td>\n",
       "      <td>52</td>\n",
       "      <td>3</td>\n",
       "      <td>13</td>\n",
       "    </tr>\n",
       "    <tr>\n",
       "      <th>1693</th>\n",
       "      <td>876</td>\n",
       "      <td>124</td>\n",
       "      <td>1594</td>\n",
       "      <td>6</td>\n",
       "      <td>0.7500</td>\n",
       "      <td>1</td>\n",
       "      <td>1403</td>\n",
       "      <td>52</td>\n",
       "      <td>3</td>\n",
       "      <td>13</td>\n",
       "    </tr>\n",
       "    <tr>\n",
       "      <th>1694</th>\n",
       "      <td>1177</td>\n",
       "      <td>82</td>\n",
       "      <td>1594</td>\n",
       "      <td>20</td>\n",
       "      <td>0.4000</td>\n",
       "      <td>90</td>\n",
       "      <td>1403</td>\n",
       "      <td>52</td>\n",
       "      <td>3</td>\n",
       "      <td>12</td>\n",
       "    </tr>\n",
       "    <tr>\n",
       "      <th>1695</th>\n",
       "      <td>380</td>\n",
       "      <td>126</td>\n",
       "      <td>1594</td>\n",
       "      <td>75</td>\n",
       "      <td>0.4665</td>\n",
       "      <td>12</td>\n",
       "      <td>1403</td>\n",
       "      <td>52</td>\n",
       "      <td>3</td>\n",
       "      <td>11</td>\n",
       "    </tr>\n",
       "  </tbody>\n",
       "</table>\n",
       "<p>1696 rows × 10 columns</p>\n",
       "</div>"
      ],
      "text/plain": [
       "      Company  Location  Industry  Laid_Off_Count  Percentage  Funds_Raised  \\\n",
       "0         723        81         0              50      0.2500           144   \n",
       "1         133       124         1             879      1.0000           522   \n",
       "2         275       124         2             120      0.1800           162   \n",
       "3         675        73         3            1215      0.2306          4683   \n",
       "4         758         1         4             557      0.3100          1100   \n",
       "...       ...       ...       ...             ...         ...           ...   \n",
       "1691     1051        82      1691              86      1.0000             5   \n",
       "1692      552        82      1692               8      0.1000            45   \n",
       "1693      876       124      1594               6      0.7500             1   \n",
       "1694     1177        82      1594              20      0.4000            90   \n",
       "1695      380       126      1594              75      0.4665            12   \n",
       "\n",
       "      Stage  Country  Date_month  Date_day  \n",
       "0         0       51          11        29  \n",
       "1         1       52          11        29  \n",
       "2         2       52          11        29  \n",
       "3         3       33          11        29  \n",
       "4         4       31          11        29  \n",
       "...     ...      ...         ...       ...  \n",
       "1691   1403       52           3        16  \n",
       "1692   1403       52           3        13  \n",
       "1693   1403       52           3        13  \n",
       "1694   1403       52           3        12  \n",
       "1695   1403       52           3        11  \n",
       "\n",
       "[1696 rows x 10 columns]"
      ]
     },
     "execution_count": 383,
     "metadata": {},
     "output_type": "execute_result"
    }
   ],
   "source": [
    "df = pd.read_csv(\"layoffs_data.csv\")\n",
    "df = drop_cols(df, ['Source','List_of_Employees_Laid_Off', 'Date_Added'])\n",
    "df = df.replace('Unknown', np.nan)\n",
    "df = num2fill(df,num_fill_ex)\n",
    "df = cat2num(df,cat_ex)\n",
    "df = date2convert(df, 'Date')\n",
    "df = cat2fill(df,cat_fill_ex)\n",
    "df = round2(df, round_ex)\n",
    "df"
   ]
  },
  {
   "cell_type": "code",
   "execution_count": 384,
   "id": "c89b05c8",
   "metadata": {
    "scrolled": true
   },
   "outputs": [
    {
     "data": {
      "text/plain": [
       "Company           0\n",
       "Location          0\n",
       "Industry          0\n",
       "Laid_Off_Count    0\n",
       "Percentage        0\n",
       "Funds_Raised      0\n",
       "Stage             0\n",
       "Country           0\n",
       "Date_month        0\n",
       "Date_day          0\n",
       "dtype: int64"
      ]
     },
     "execution_count": 384,
     "metadata": {},
     "output_type": "execute_result"
    }
   ],
   "source": [
    "df.isnull().sum()"
   ]
  },
  {
   "cell_type": "code",
   "execution_count": 385,
   "id": "b3ed65ca",
   "metadata": {
    "scrolled": true
   },
   "outputs": [
    {
     "name": "stdout",
     "output_type": "stream",
     "text": [
      "<class 'pandas.core.frame.DataFrame'>\n",
      "RangeIndex: 1696 entries, 0 to 1695\n",
      "Data columns (total 10 columns):\n",
      " #   Column          Non-Null Count  Dtype  \n",
      "---  ------          --------------  -----  \n",
      " 0   Company         1696 non-null   int32  \n",
      " 1   Location        1696 non-null   int32  \n",
      " 2   Industry        1696 non-null   int32  \n",
      " 3   Laid_Off_Count  1696 non-null   int32  \n",
      " 4   Percentage      1696 non-null   float64\n",
      " 5   Funds_Raised    1696 non-null   int32  \n",
      " 6   Stage           1696 non-null   int32  \n",
      " 7   Country         1696 non-null   int32  \n",
      " 8   Date_month      1696 non-null   int64  \n",
      " 9   Date_day        1696 non-null   int64  \n",
      "dtypes: float64(1), int32(7), int64(2)\n",
      "memory usage: 86.2 KB\n"
     ]
    }
   ],
   "source": [
    "df.info()"
   ]
  },
  {
   "cell_type": "markdown",
   "id": "edc76443",
   "metadata": {},
   "source": [
    "***APPLYING ML MODELS & HYPERPARAMETER TUNING***"
   ]
  },
  {
   "cell_type": "code",
   "execution_count": 431,
   "id": "7bb1d70c",
   "metadata": {},
   "outputs": [],
   "source": [
    "scaler = MinMaxScaler()\n",
    "df[num_cols] = scaler.fit_transform(df[num_cols])\n",
    "df = pd.DataFrame(df)\n",
    "y = df['Industry'].values\n",
    "X = df.drop('Industry',axis=1).values\n",
    "X_train, X_test, y_train, y_test = train_test_split(X,y,test_size=0.3)"
   ]
  },
  {
   "cell_type": "code",
   "execution_count": 432,
   "id": "0f7bf16e",
   "metadata": {},
   "outputs": [
    {
     "data": {
      "text/plain": [
       "[('Company', False, 2),\n",
       " ('Location', True, 1),\n",
       " ('Industry', True, 1),\n",
       " ('Laid_Off_Count', True, 1),\n",
       " ('Percentage', True, 1),\n",
       " ('Funds_Raised', True, 1),\n",
       " ('Stage', True, 1),\n",
       " ('Country', True, 1),\n",
       " ('Date_month', True, 1)]"
      ]
     },
     "execution_count": 432,
     "metadata": {},
     "output_type": "execute_result"
    }
   ],
   "source": [
    "lm = LinearRegression()\n",
    "lm.fit(X_train, y_train)\n",
    "\n",
    "rfe = RFE(lm, n_features_to_select=8)             \n",
    "rfe = rfe.fit(X_train, y_train)\n",
    "list(zip(df.columns,rfe.support_,rfe.ranking_))\n"
   ]
  },
  {
   "cell_type": "code",
   "execution_count": 433,
   "id": "b31a4f20",
   "metadata": {},
   "outputs": [
    {
     "name": "stdout",
     "output_type": "stream",
     "text": [
      "0.988069736387197\n"
     ]
    }
   ],
   "source": [
    "y_pred = rfe.predict(X_test)\n",
    "r2 = r2_score(y_test, y_pred)\n",
    "print(r2)"
   ]
  },
  {
   "cell_type": "code",
   "execution_count": 434,
   "id": "bbc4d867",
   "metadata": {},
   "outputs": [
    {
     "data": {
      "text/plain": [
       "array([0.98743104, 0.98414187, 0.98724344, 0.98406737, 0.98945174])"
      ]
     },
     "execution_count": 434,
     "metadata": {},
     "output_type": "execute_result"
    }
   ],
   "source": [
    "folds = KFold(n_splits = 5, shuffle = True, random_state = 100)\n",
    "scores = cross_val_score(lm, X_train, y_train, scoring='r2', cv=folds)\n",
    "scores"
   ]
  },
  {
   "cell_type": "code",
   "execution_count": 435,
   "id": "c262f299",
   "metadata": {},
   "outputs": [
    {
     "data": {
      "text/plain": [
       "array([-3723.54229606, -3600.28470154, -2917.92895533, -3213.23517877,\n",
       "       -2896.49758796])"
      ]
     },
     "execution_count": 435,
     "metadata": {},
     "output_type": "execute_result"
    }
   ],
   "source": [
    "scores = cross_val_score(lm, X_train, y_train, scoring='neg_mean_squared_error', cv=5)\n",
    "scores"
   ]
  },
  {
   "cell_type": "code",
   "execution_count": 457,
   "id": "ad6e84ab",
   "metadata": {},
   "outputs": [
    {
     "name": "stdout",
     "output_type": "stream",
     "text": [
      "Fitting 5 folds for each of 9 candidates, totalling 45 fits\n"
     ]
    },
    {
     "data": {
      "text/plain": [
       "GridSearchCV(cv=KFold(n_splits=5, random_state=100, shuffle=True),\n",
       "             estimator=RFE(estimator=LinearRegression()),\n",
       "             param_grid=[{'n_features_to_select': [1, 2, 3, 4, 5, 6, 7, 8, 9]}],\n",
       "             return_train_score=True, scoring='r2', verbose=1)"
      ]
     },
     "execution_count": 457,
     "metadata": {},
     "output_type": "execute_result"
    }
   ],
   "source": [
    "folds = KFold(n_splits = 5, shuffle = True, random_state = 100)\n",
    "hyper_params = [{'n_features_to_select': list(range(1, 10))}]\n",
    "lm = LinearRegression()\n",
    "lm.fit(X_train, y_train)\n",
    "rfe = RFE(lm)             \n",
    "model_cv = GridSearchCV(estimator = rfe, \n",
    "                        param_grid = hyper_params, \n",
    "                        scoring= 'r2', \n",
    "                        cv = folds, \n",
    "                        verbose = 1,\n",
    "                        return_train_score=True)   \n",
    "model_cv.fit(X_train, y_train)\n"
   ]
  },
  {
   "cell_type": "code",
   "execution_count": 454,
   "id": "7c5b25de",
   "metadata": {},
   "outputs": [
    {
     "data": {
      "text/html": [
       "<div>\n",
       "<style scoped>\n",
       "    .dataframe tbody tr th:only-of-type {\n",
       "        vertical-align: middle;\n",
       "    }\n",
       "\n",
       "    .dataframe tbody tr th {\n",
       "        vertical-align: top;\n",
       "    }\n",
       "\n",
       "    .dataframe thead th {\n",
       "        text-align: right;\n",
       "    }\n",
       "</style>\n",
       "<table border=\"1\" class=\"dataframe\">\n",
       "  <thead>\n",
       "    <tr style=\"text-align: right;\">\n",
       "      <th></th>\n",
       "      <th>mean_fit_time</th>\n",
       "      <th>std_fit_time</th>\n",
       "      <th>mean_score_time</th>\n",
       "      <th>std_score_time</th>\n",
       "      <th>param_n_features_to_select</th>\n",
       "      <th>params</th>\n",
       "      <th>split0_test_score</th>\n",
       "      <th>split1_test_score</th>\n",
       "      <th>split2_test_score</th>\n",
       "      <th>split3_test_score</th>\n",
       "      <th>...</th>\n",
       "      <th>mean_test_score</th>\n",
       "      <th>std_test_score</th>\n",
       "      <th>rank_test_score</th>\n",
       "      <th>split0_train_score</th>\n",
       "      <th>split1_train_score</th>\n",
       "      <th>split2_train_score</th>\n",
       "      <th>split3_train_score</th>\n",
       "      <th>split4_train_score</th>\n",
       "      <th>mean_train_score</th>\n",
       "      <th>std_train_score</th>\n",
       "    </tr>\n",
       "  </thead>\n",
       "  <tbody>\n",
       "    <tr>\n",
       "      <th>0</th>\n",
       "      <td>0.004001</td>\n",
       "      <td>0.000633</td>\n",
       "      <td>0.000400</td>\n",
       "      <td>0.000490</td>\n",
       "      <td>1</td>\n",
       "      <td>{'n_features_to_select': 1}</td>\n",
       "      <td>0.775776</td>\n",
       "      <td>0.764826</td>\n",
       "      <td>0.797613</td>\n",
       "      <td>-0.003014</td>\n",
       "      <td>...</td>\n",
       "      <td>0.467286</td>\n",
       "      <td>0.382414</td>\n",
       "      <td>9</td>\n",
       "      <td>0.772773</td>\n",
       "      <td>0.775734</td>\n",
       "      <td>0.767076</td>\n",
       "      <td>0.000683</td>\n",
       "      <td>0.000080</td>\n",
       "      <td>0.463269</td>\n",
       "      <td>0.377956</td>\n",
       "    </tr>\n",
       "    <tr>\n",
       "      <th>1</th>\n",
       "      <td>0.003001</td>\n",
       "      <td>0.000633</td>\n",
       "      <td>0.000000</td>\n",
       "      <td>0.000000</td>\n",
       "      <td>2</td>\n",
       "      <td>{'n_features_to_select': 2}</td>\n",
       "      <td>0.776238</td>\n",
       "      <td>0.762435</td>\n",
       "      <td>0.796806</td>\n",
       "      <td>0.778595</td>\n",
       "      <td>...</td>\n",
       "      <td>0.771735</td>\n",
       "      <td>0.017427</td>\n",
       "      <td>8</td>\n",
       "      <td>0.777615</td>\n",
       "      <td>0.775776</td>\n",
       "      <td>0.772256</td>\n",
       "      <td>0.772396</td>\n",
       "      <td>0.780283</td>\n",
       "      <td>0.775665</td>\n",
       "      <td>0.003081</td>\n",
       "    </tr>\n",
       "    <tr>\n",
       "      <th>2</th>\n",
       "      <td>0.003134</td>\n",
       "      <td>0.006269</td>\n",
       "      <td>0.000000</td>\n",
       "      <td>0.000000</td>\n",
       "      <td>3</td>\n",
       "      <td>{'n_features_to_select': 3}</td>\n",
       "      <td>0.775991</td>\n",
       "      <td>0.769182</td>\n",
       "      <td>0.796607</td>\n",
       "      <td>0.782555</td>\n",
       "      <td>...</td>\n",
       "      <td>0.774987</td>\n",
       "      <td>0.015193</td>\n",
       "      <td>7</td>\n",
       "      <td>0.777880</td>\n",
       "      <td>0.778496</td>\n",
       "      <td>0.772502</td>\n",
       "      <td>0.776202</td>\n",
       "      <td>0.783642</td>\n",
       "      <td>0.777744</td>\n",
       "      <td>0.003612</td>\n",
       "    </tr>\n",
       "    <tr>\n",
       "      <th>3</th>\n",
       "      <td>0.000000</td>\n",
       "      <td>0.000000</td>\n",
       "      <td>0.000000</td>\n",
       "      <td>0.000000</td>\n",
       "      <td>4</td>\n",
       "      <td>{'n_features_to_select': 4}</td>\n",
       "      <td>0.776009</td>\n",
       "      <td>0.769297</td>\n",
       "      <td>0.795887</td>\n",
       "      <td>0.781776</td>\n",
       "      <td>...</td>\n",
       "      <td>0.822444</td>\n",
       "      <td>0.083861</td>\n",
       "      <td>6</td>\n",
       "      <td>0.777883</td>\n",
       "      <td>0.778506</td>\n",
       "      <td>0.772539</td>\n",
       "      <td>0.776327</td>\n",
       "      <td>0.985859</td>\n",
       "      <td>0.818223</td>\n",
       "      <td>0.083844</td>\n",
       "    </tr>\n",
       "    <tr>\n",
       "      <th>4</th>\n",
       "      <td>0.000000</td>\n",
       "      <td>0.000000</td>\n",
       "      <td>0.003125</td>\n",
       "      <td>0.006250</td>\n",
       "      <td>5</td>\n",
       "      <td>{'n_features_to_select': 5}</td>\n",
       "      <td>0.987756</td>\n",
       "      <td>0.984258</td>\n",
       "      <td>0.986944</td>\n",
       "      <td>0.983713</td>\n",
       "      <td>...</td>\n",
       "      <td>0.986384</td>\n",
       "      <td>0.002101</td>\n",
       "      <td>5</td>\n",
       "      <td>0.986183</td>\n",
       "      <td>0.987102</td>\n",
       "      <td>0.986359</td>\n",
       "      <td>0.987193</td>\n",
       "      <td>0.985859</td>\n",
       "      <td>0.986539</td>\n",
       "      <td>0.000523</td>\n",
       "    </tr>\n",
       "    <tr>\n",
       "      <th>5</th>\n",
       "      <td>0.003125</td>\n",
       "      <td>0.006250</td>\n",
       "      <td>0.000000</td>\n",
       "      <td>0.000000</td>\n",
       "      <td>6</td>\n",
       "      <td>{'n_features_to_select': 6}</td>\n",
       "      <td>0.987684</td>\n",
       "      <td>0.984437</td>\n",
       "      <td>0.987074</td>\n",
       "      <td>0.983921</td>\n",
       "      <td>...</td>\n",
       "      <td>0.986496</td>\n",
       "      <td>0.002041</td>\n",
       "      <td>3</td>\n",
       "      <td>0.986345</td>\n",
       "      <td>0.987204</td>\n",
       "      <td>0.986470</td>\n",
       "      <td>0.987287</td>\n",
       "      <td>0.985981</td>\n",
       "      <td>0.986657</td>\n",
       "      <td>0.000507</td>\n",
       "    </tr>\n",
       "    <tr>\n",
       "      <th>6</th>\n",
       "      <td>0.000000</td>\n",
       "      <td>0.000000</td>\n",
       "      <td>0.003125</td>\n",
       "      <td>0.006251</td>\n",
       "      <td>7</td>\n",
       "      <td>{'n_features_to_select': 7}</td>\n",
       "      <td>0.987452</td>\n",
       "      <td>0.984346</td>\n",
       "      <td>0.987281</td>\n",
       "      <td>0.984105</td>\n",
       "      <td>...</td>\n",
       "      <td>0.986540</td>\n",
       "      <td>0.002048</td>\n",
       "      <td>1</td>\n",
       "      <td>0.986488</td>\n",
       "      <td>0.987321</td>\n",
       "      <td>0.986514</td>\n",
       "      <td>0.987335</td>\n",
       "      <td>0.986042</td>\n",
       "      <td>0.986740</td>\n",
       "      <td>0.000508</td>\n",
       "    </tr>\n",
       "    <tr>\n",
       "      <th>7</th>\n",
       "      <td>0.000000</td>\n",
       "      <td>0.000000</td>\n",
       "      <td>0.000000</td>\n",
       "      <td>0.000000</td>\n",
       "      <td>8</td>\n",
       "      <td>{'n_features_to_select': 8}</td>\n",
       "      <td>0.987440</td>\n",
       "      <td>0.984277</td>\n",
       "      <td>0.987285</td>\n",
       "      <td>0.984081</td>\n",
       "      <td>...</td>\n",
       "      <td>0.986512</td>\n",
       "      <td>0.002056</td>\n",
       "      <td>2</td>\n",
       "      <td>0.986488</td>\n",
       "      <td>0.987341</td>\n",
       "      <td>0.986514</td>\n",
       "      <td>0.987345</td>\n",
       "      <td>0.986055</td>\n",
       "      <td>0.986748</td>\n",
       "      <td>0.000512</td>\n",
       "    </tr>\n",
       "    <tr>\n",
       "      <th>8</th>\n",
       "      <td>0.003125</td>\n",
       "      <td>0.006250</td>\n",
       "      <td>0.000000</td>\n",
       "      <td>0.000000</td>\n",
       "      <td>9</td>\n",
       "      <td>{'n_features_to_select': 9}</td>\n",
       "      <td>0.987431</td>\n",
       "      <td>0.984142</td>\n",
       "      <td>0.987243</td>\n",
       "      <td>0.984067</td>\n",
       "      <td>...</td>\n",
       "      <td>0.986467</td>\n",
       "      <td>0.002079</td>\n",
       "      <td>4</td>\n",
       "      <td>0.986488</td>\n",
       "      <td>0.987359</td>\n",
       "      <td>0.986519</td>\n",
       "      <td>0.987346</td>\n",
       "      <td>0.986058</td>\n",
       "      <td>0.986754</td>\n",
       "      <td>0.000515</td>\n",
       "    </tr>\n",
       "  </tbody>\n",
       "</table>\n",
       "<p>9 rows × 21 columns</p>\n",
       "</div>"
      ],
      "text/plain": [
       "   mean_fit_time  std_fit_time  mean_score_time  std_score_time  \\\n",
       "0       0.004001      0.000633         0.000400        0.000490   \n",
       "1       0.003001      0.000633         0.000000        0.000000   \n",
       "2       0.003134      0.006269         0.000000        0.000000   \n",
       "3       0.000000      0.000000         0.000000        0.000000   \n",
       "4       0.000000      0.000000         0.003125        0.006250   \n",
       "5       0.003125      0.006250         0.000000        0.000000   \n",
       "6       0.000000      0.000000         0.003125        0.006251   \n",
       "7       0.000000      0.000000         0.000000        0.000000   \n",
       "8       0.003125      0.006250         0.000000        0.000000   \n",
       "\n",
       "  param_n_features_to_select                       params  split0_test_score  \\\n",
       "0                          1  {'n_features_to_select': 1}           0.775776   \n",
       "1                          2  {'n_features_to_select': 2}           0.776238   \n",
       "2                          3  {'n_features_to_select': 3}           0.775991   \n",
       "3                          4  {'n_features_to_select': 4}           0.776009   \n",
       "4                          5  {'n_features_to_select': 5}           0.987756   \n",
       "5                          6  {'n_features_to_select': 6}           0.987684   \n",
       "6                          7  {'n_features_to_select': 7}           0.987452   \n",
       "7                          8  {'n_features_to_select': 8}           0.987440   \n",
       "8                          9  {'n_features_to_select': 9}           0.987431   \n",
       "\n",
       "   split1_test_score  split2_test_score  split3_test_score  ...  \\\n",
       "0           0.764826           0.797613          -0.003014  ...   \n",
       "1           0.762435           0.796806           0.778595  ...   \n",
       "2           0.769182           0.796607           0.782555  ...   \n",
       "3           0.769297           0.795887           0.781776  ...   \n",
       "4           0.984258           0.986944           0.983713  ...   \n",
       "5           0.984437           0.987074           0.983921  ...   \n",
       "6           0.984346           0.987281           0.984105  ...   \n",
       "7           0.984277           0.987285           0.984081  ...   \n",
       "8           0.984142           0.987243           0.984067  ...   \n",
       "\n",
       "   mean_test_score  std_test_score  rank_test_score  split0_train_score  \\\n",
       "0         0.467286        0.382414                9            0.772773   \n",
       "1         0.771735        0.017427                8            0.777615   \n",
       "2         0.774987        0.015193                7            0.777880   \n",
       "3         0.822444        0.083861                6            0.777883   \n",
       "4         0.986384        0.002101                5            0.986183   \n",
       "5         0.986496        0.002041                3            0.986345   \n",
       "6         0.986540        0.002048                1            0.986488   \n",
       "7         0.986512        0.002056                2            0.986488   \n",
       "8         0.986467        0.002079                4            0.986488   \n",
       "\n",
       "   split1_train_score  split2_train_score  split3_train_score  \\\n",
       "0            0.775734            0.767076            0.000683   \n",
       "1            0.775776            0.772256            0.772396   \n",
       "2            0.778496            0.772502            0.776202   \n",
       "3            0.778506            0.772539            0.776327   \n",
       "4            0.987102            0.986359            0.987193   \n",
       "5            0.987204            0.986470            0.987287   \n",
       "6            0.987321            0.986514            0.987335   \n",
       "7            0.987341            0.986514            0.987345   \n",
       "8            0.987359            0.986519            0.987346   \n",
       "\n",
       "   split4_train_score  mean_train_score  std_train_score  \n",
       "0            0.000080          0.463269         0.377956  \n",
       "1            0.780283          0.775665         0.003081  \n",
       "2            0.783642          0.777744         0.003612  \n",
       "3            0.985859          0.818223         0.083844  \n",
       "4            0.985859          0.986539         0.000523  \n",
       "5            0.985981          0.986657         0.000507  \n",
       "6            0.986042          0.986740         0.000508  \n",
       "7            0.986055          0.986748         0.000512  \n",
       "8            0.986058          0.986754         0.000515  \n",
       "\n",
       "[9 rows x 21 columns]"
      ]
     },
     "execution_count": 454,
     "metadata": {},
     "output_type": "execute_result"
    }
   ],
   "source": [
    "cv_results = pd.DataFrame(model_cv.cv_results_)\n",
    "cv_results"
   ]
  },
  {
   "cell_type": "code",
   "execution_count": 461,
   "id": "b5127370",
   "metadata": {},
   "outputs": [
    {
     "data": {
      "text/plain": [
       "<matplotlib.legend.Legend at 0x191e22c3850>"
      ]
     },
     "execution_count": 461,
     "metadata": {},
     "output_type": "execute_result"
    },
    {
     "data": {
      "image/png": "[encoded data removed]",
      "text/plain": [
       "<Figure size 864x360 with 1 Axes>"
      ]
     },
     "metadata": {
      "needs_background": "light"
     },
     "output_type": "display_data"
    }
   ],
   "source": [
    "plt.figure(figsize=(12,5))\n",
    "plt.plot(cv_results[\"param_n_features_to_select\"], cv_results[\"mean_test_score\"], linewidth=2)\n",
    "plt.plot(cv_results[\"param_n_features_to_select\"], cv_results[\"mean_train_score\"], color='red', linewidth=2)\n",
    "plt.xlabel('number of features')\n",
    "plt.ylabel('r-squared')\n",
    "plt.title(\"Optimal Number of Features\")\n",
    "plt.legend(['test score', 'train score'], loc='upper left')"
   ]
  }
 ],
 "metadata": {
  "kernelspec": {
   "display_name": "Python 3",
   "language": "python",
   "name": "python3"
  },
  "language_info": {
   "codemirror_mode": {
    "name": "ipython",
    "version": 3
   },
   "file_extension": ".py",
   "mimetype": "text/x-python",
   "name": "python",
   "nbconvert_exporter": "python",
   "pygments_lexer": "ipython3",
   "version": "3.8.8"
  }
 },
 "nbformat": 4,
 "nbformat_minor": 5
}
